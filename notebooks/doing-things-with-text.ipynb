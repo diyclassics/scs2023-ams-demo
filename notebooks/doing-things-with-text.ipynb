{
 "cells": [
  {
   "cell_type": "code",
   "execution_count": null,
   "metadata": {},
   "outputs": [],
   "source": [
    "### NB: Much of what is included below draws on examples from the \"NLTK Book\" (https://www.nltk.org/book/ch01.html) Steven Bird, Ewan Klein, and Edward Loper. Highly recommended to continue with the kinds of work introduced in the workshop. "
   ]
  },
  {
   "cell_type": "code",
   "execution_count": null,
   "metadata": {},
   "outputs": [],
   "source": [
    "## Imports\n",
    "\n",
    "from cltkreaders.readers import PerseusTreebankCorpusReader\n",
    "from pprint import pprint"
   ]
  },
  {
   "cell_type": "code",
   "execution_count": null,
   "metadata": {},
   "outputs": [],
   "source": [
    "# Setup corpus\n",
    "\n",
    "PT = PerseusTreebankCorpusReader('../data/texts/', '.*\\.xml')"
   ]
  },
  {
   "cell_type": "code",
   "execution_count": null,
   "metadata": {},
   "outputs": [],
   "source": [
    "# Sample xml text\n",
    "\n",
    "sample_doc = next(PT.docs())\n",
    "print(sample_doc[8273:9182])"
   ]
  },
  {
   "cell_type": "code",
   "execution_count": null,
   "metadata": {},
   "outputs": [],
   "source": [
    "# Show sample words\n",
    "\n",
    "words = PT.words()\n",
    "\n",
    "print(next(words))\n",
    "print(next(words))\n",
    "print(next(words))\n",
    "print(next(words))\n",
    "print(next(words))"
   ]
  },
  {
   "cell_type": "code",
   "execution_count": null,
   "metadata": {},
   "outputs": [],
   "source": [
    "# Organize text\n",
    "\n",
    "iliad_text = \" \".join(PT.words())\n",
    "iliad_text[:150]"
   ]
  },
  {
   "cell_type": "code",
   "execution_count": null,
   "metadata": {},
   "outputs": [],
   "source": [
    "# Preprocess text\n",
    "\n",
    "from texttools import preprocess\n",
    "iliad_text = preprocess(iliad_text)\n",
    "iliad_text[:150]"
   ]
  },
  {
   "cell_type": "code",
   "execution_count": null,
   "metadata": {},
   "outputs": [],
   "source": [
    "# Tokenize text\n",
    "iliad_tokens = iliad_text.split()\n",
    "print(iliad_tokens[:15])"
   ]
  },
  {
   "cell_type": "code",
   "execution_count": null,
   "metadata": {},
   "outputs": [],
   "source": [
    "# Make a Text object with NLTK\n",
    "\n",
    "from nltk import Text\n",
    "iliad_Text = Text(iliad_tokens)\n",
    "iliad_Text"
   ]
  },
  {
   "cell_type": "code",
   "execution_count": null,
   "metadata": {},
   "outputs": [],
   "source": [
    "# Check type of Text object\n",
    "\n",
    "type(iliad_Text)"
   ]
  },
  {
   "cell_type": "code",
   "execution_count": null,
   "metadata": {},
   "outputs": [],
   "source": [
    "# Get collocations\n",
    "\n",
    "collocations = iliad_Text.collocation_list(num=5)\n",
    "\n",
    "for collocation in collocations:\n",
    "    print(' '.join(collocation))"
   ]
  },
  {
   "cell_type": "code",
   "execution_count": null,
   "metadata": {},
   "outputs": [],
   "source": [
    "# Make a dispersion plot\n",
    "\n",
    "displot = iliad_Text.dispersion_plot(['ἀχιλλεύς', 'πρίαμος', 'πάτροκλος'])"
   ]
  },
  {
   "cell_type": "code",
   "execution_count": null,
   "metadata": {},
   "outputs": [],
   "source": [
    "# Make lemmatized Text object\n",
    "\n",
    "tokenized_sents = PT.tokenized_sents()\n",
    "\n",
    "all_lemmas = []\n",
    "for sent in tokenized_sents:\n",
    "    for token in sent:\n",
    "        if token[1]:\n",
    "            lemma = preprocess(token[1])\n",
    "            if lemma:\n",
    "                all_lemmas.append(preprocess(token[1], remove_spaces=True))\n",
    "\n",
    "iliad_lemmatized_Text = Text(all_lemmas)        "
   ]
  },
  {
   "cell_type": "code",
   "execution_count": null,
   "metadata": {},
   "outputs": [],
   "source": [
    "# Before, unlemmatized\n",
    "\n",
    "displot = iliad_Text.dispersion_plot(['ἀχιλλεύς', 'πρίαμος', 'πάτροκλος'])"
   ]
  },
  {
   "cell_type": "code",
   "execution_count": null,
   "metadata": {},
   "outputs": [],
   "source": [
    "# After, lemmatized\n",
    "\n",
    "displot = iliad_lemmatized_Text.dispersion_plot(['ἀχιλλεύς', 'πρίαμος', 'πάτροκλος'])"
   ]
  },
  {
   "cell_type": "code",
   "execution_count": null,
   "metadata": {},
   "outputs": [],
   "source": [
    "# Other ideas\n",
    "\n",
    "displot = iliad_lemmatized_Text.dispersion_plot(['ἀγαθός', 'κακός'])"
   ]
  },
  {
   "cell_type": "code",
   "execution_count": null,
   "metadata": {},
   "outputs": [],
   "source": [
    "# Other ideas\n",
    "\n",
    "displot = iliad_lemmatized_Text.dispersion_plot(['μέλας', 'λευκός'])"
   ]
  },
  {
   "cell_type": "code",
   "execution_count": null,
   "metadata": {},
   "outputs": [],
   "source": [
    "# Plot freqs\n",
    "\n",
    "from nltk import FreqDist\n",
    "freqs = FreqDist(iliad_lemmatized_Text)\n",
    "freqs.plot(50, cumulative=False);"
   ]
  },
  {
   "cell_type": "code",
   "execution_count": null,
   "metadata": {},
   "outputs": [],
   "source": [
    "# Plot freqs, cumulative\n",
    "\n",
    "freqs.plot(50, cumulative=True);"
   ]
  }
 ],
 "metadata": {
  "kernelspec": {
   "display_name": "scs2023-ams-demo",
   "language": "python",
   "name": "python3"
  },
  "language_info": {
   "codemirror_mode": {
    "name": "ipython",
    "version": 3
   },
   "file_extension": ".py",
   "mimetype": "text/x-python",
   "name": "python",
   "nbconvert_exporter": "python",
   "pygments_lexer": "ipython3",
   "version": "3.10.8"
  },
  "orig_nbformat": 4,
  "vscode": {
   "interpreter": {
    "hash": "4d8c449db701cbfd673d73d3b2197958af987dac4c67dc9efb7e5d3b36d1867a"
   }
  }
 },
 "nbformat": 4,
 "nbformat_minor": 2
}
