{
 "cells": [
  {
   "cell_type": "code",
   "execution_count": 1,
   "metadata": {},
   "outputs": [],
   "source": [
    "# Use this empty notebook to test out code"
   ]
  }
 ],
 "metadata": {
  "kernelspec": {
   "display_name": "scs2023-ams-demo",
   "language": "python",
   "name": "python3"
  },
  "language_info": {
   "codemirror_mode": {
    "name": "ipython",
    "version": 3
   },
   "file_extension": ".py",
   "mimetype": "text/x-python",
   "name": "python",
   "nbconvert_exporter": "python",
   "pygments_lexer": "ipython3",
   "version": "3.10.8"
  },
  "orig_nbformat": 4,
  "vscode": {
   "interpreter": {
    "hash": "4d8c449db701cbfd673d73d3b2197958af987dac4c67dc9efb7e5d3b36d1867a"
   }
  }
 },
 "nbformat": 4,
 "nbformat_minor": 2
}
