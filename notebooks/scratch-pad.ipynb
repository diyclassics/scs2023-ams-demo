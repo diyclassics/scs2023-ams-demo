{
 "cells": [
  {
   "cell_type": "code",
   "execution_count": null,
   "metadata": {},
   "outputs": [],
   "source": []
  }
 ],
 "metadata": {
  "kernelspec": {
   "display_name": "Python 3",
   "language": "python",
   "name": "python3"
  },
  "language_info": {
   "name": "python",
   "version": "3.10.8 (main, Nov 17 2022, 21:30:30) [Clang 14.0.0 (clang-1400.0.29.202)]"
  },
  "orig_nbformat": 4,
  "vscode": {
   "interpreter": {
    "hash": "96b5572f9e5c2852df97deea41a72377e212c9678d584b7f08db6c577f7d08ba"
   }
  }
 },
 "nbformat": 4,
 "nbformat_minor": 2
}
